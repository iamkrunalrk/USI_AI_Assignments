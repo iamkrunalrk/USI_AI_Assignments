{
  "cells": [
    {
      "cell_type": "markdown",
      "metadata": {
        "id": "IaAZiTQwE3lm"
      },
      "source": [
        "# Third Assignment\n",
        "\n",
        "##MSc course in Artificial Intelligence\n",
        "\n",
        "insert your \"Name Surname\""
      ]
    },
    {
      "cell_type": "code",
      "execution_count": 6,
      "metadata": {
        "colab": {
          "base_uri": "https://localhost:8080/"
        },
        "id": "J2bH52MfXBM6",
        "outputId": "e8f3e103-1469-4507-a654-32e0258e7273"
      },
      "outputs": [
        {
          "name": "stdout",
          "output_type": "stream",
          "text": [
            "fatal: destination path 'AI_USI_MA' already exists and is not an empty directory.\n"
          ]
        }
      ],
      "source": [
        "# !rm -r AI_USI_MA/\n",
        "!git clone https://github.com/UmbertoJr/AI_USI_MA.git"
      ]
    },
    {
      "cell_type": "code",
      "execution_count": 7,
      "metadata": {
        "colab": {
          "base_uri": "https://localhost:8080/",
          "height": 751
        },
        "id": "XEJY8cipXg-3",
        "outputId": "3ae93796-b0b8-45e4-aa36-3997660cd433"
      },
      "outputs": [
        {
          "ename": "FileNotFoundError",
          "evalue": "[Errno 2] No such file or directory: 'problems/TSP/eil76.tsp'",
          "output_type": "error",
          "traceback": [
            "\u001b[0;31m---------------------------------------------------------------------------\u001b[0m",
            "\u001b[0;31mFileNotFoundError\u001b[0m                         Traceback (most recent call last)",
            "Cell \u001b[0;32mIn[7], line 7\u001b[0m\n\u001b[1;32m      4\u001b[0m \u001b[38;5;66;03m# if you are running from your local remove the prefix AI2020 (comment the previous line and uncomment the following line)\u001b[39;00m\n\u001b[1;32m      5\u001b[0m \u001b[38;5;28;01mfrom\u001b[39;00m \u001b[38;5;21;01mAI_USI_MA\u001b[39;00m\u001b[38;5;21;01m.\u001b[39;00m\u001b[38;5;21;01mIO_manager\u001b[39;00m\u001b[38;5;21;01m.\u001b[39;00m\u001b[38;5;21;01mio_tsp\u001b[39;00m \u001b[38;5;28;01mimport\u001b[39;00m TSP_Instance_Creator\n\u001b[0;32m----> 7\u001b[0m ic \u001b[38;5;241m=\u001b[39m \u001b[43mTSP_Instance_Creator\u001b[49m\u001b[43m(\u001b[49m\u001b[38;5;124;43m\"\u001b[39;49m\u001b[38;5;124;43mstandard\u001b[39;49m\u001b[38;5;124;43m\"\u001b[39;49m\u001b[43m,\u001b[49m\u001b[43m \u001b[49m\u001b[38;5;124;43m'\u001b[39;49m\u001b[38;5;124;43meil76.tsp\u001b[39;49m\u001b[38;5;124;43m'\u001b[39;49m\u001b[43m)\u001b[49m\n\u001b[1;32m      8\u001b[0m ic\u001b[38;5;241m.\u001b[39mprint_info()\n\u001b[1;32m      9\u001b[0m ic\u001b[38;5;241m.\u001b[39mplot_data()\n",
            "File \u001b[0;32m~/Documents/MSc - AI/Semester 3/Artificial Intelligence/Assignments/Assignment_3/AI_USI_MA/IO_manager/io_tsp.py:32\u001b[0m, in \u001b[0;36mTSP_Instance_Creator.__init__\u001b[0;34m(self, mode, name_problem, seed, dimension)\u001b[0m\n\u001b[1;32m     30\u001b[0m \u001b[38;5;28;01mif\u001b[39;00m \u001b[38;5;129;01mnot\u001b[39;00m name_problem:\n\u001b[1;32m     31\u001b[0m     name_problem \u001b[38;5;241m=\u001b[39m np\u001b[38;5;241m.\u001b[39mrandom\u001b[38;5;241m.\u001b[39mchoice(\u001b[38;5;28mself\u001b[39m\u001b[38;5;241m.\u001b[39mproblems)\n\u001b[0;32m---> 32\u001b[0m \u001b[38;5;28;43mself\u001b[39;49m\u001b[38;5;241;43m.\u001b[39;49m\u001b[43mread_instance\u001b[49m\u001b[43m(\u001b[49m\u001b[43mname_problem\u001b[49m\u001b[43m)\u001b[49m\n\u001b[1;32m     33\u001b[0m \u001b[38;5;28mself\u001b[39m\u001b[38;5;241m.\u001b[39mprint_best \u001b[38;5;241m=\u001b[39m \u001b[38;5;124mf\u001b[39m\u001b[38;5;124m'\u001b[39m\u001b[38;5;124mbest_sol: \u001b[39m\u001b[38;5;132;01m{\u001b[39;00m\u001b[38;5;28mself\u001b[39m\u001b[38;5;241m.\u001b[39mbest_sol\u001b[38;5;132;01m}\u001b[39;00m\u001b[38;5;124m'\u001b[39m\n",
            "File \u001b[0;32m~/Documents/MSc - AI/Semester 3/Artificial Intelligence/Assignments/Assignment_3/AI_USI_MA/IO_manager/io_tsp.py:40\u001b[0m, in \u001b[0;36mTSP_Instance_Creator.read_instance\u001b[0;34m(self, name_tsp)\u001b[0m\n\u001b[1;32m     38\u001b[0m \u001b[38;5;28;01mif\u001b[39;00m \u001b[38;5;124m\"\u001b[39m\u001b[38;5;124mAI\u001b[39m\u001b[38;5;124m\"\u001b[39m \u001b[38;5;129;01mnot\u001b[39;00m \u001b[38;5;129;01min\u001b[39;00m os\u001b[38;5;241m.\u001b[39mgetcwd():\n\u001b[1;32m     39\u001b[0m     folder \u001b[38;5;241m=\u001b[39m \u001b[38;5;124m\"\u001b[39m\u001b[38;5;124mAI_USI_MA/problems/TSP/\u001b[39m\u001b[38;5;124m\"\u001b[39m\n\u001b[0;32m---> 40\u001b[0m file_object \u001b[38;5;241m=\u001b[39m \u001b[38;5;28;43mopen\u001b[39;49m\u001b[43m(\u001b[49m\u001b[38;5;124;43mf\u001b[39;49m\u001b[38;5;124;43m\"\u001b[39;49m\u001b[38;5;132;43;01m{\u001b[39;49;00m\u001b[43mfolder\u001b[49m\u001b[38;5;132;43;01m}\u001b[39;49;00m\u001b[38;5;132;43;01m{\u001b[39;49;00m\u001b[43mname_tsp\u001b[49m\u001b[38;5;132;43;01m}\u001b[39;49;00m\u001b[38;5;124;43m\"\u001b[39;49m\u001b[43m)\u001b[49m\n\u001b[1;32m     41\u001b[0m data \u001b[38;5;241m=\u001b[39m file_object\u001b[38;5;241m.\u001b[39mread()\n\u001b[1;32m     42\u001b[0m file_object\u001b[38;5;241m.\u001b[39mclose()\n",
            "\u001b[0;31mFileNotFoundError\u001b[0m: [Errno 2] No such file or directory: 'problems/TSP/eil76.tsp'"
          ]
        }
      ],
      "source": [
        "# Imports\n",
        "\n",
        "from AI_USI_MA.IO_manager.io_tsp import TSP_Instance_Creator\n",
        "# if you are running from your local remove the prefix AI2020 (comment the previous line and uncomment the following line)\n",
        "from AI_USI_MA.IO_manager.io_tsp import TSP_Instance_Creator\n",
        "\n",
        "ic = TSP_Instance_Creator(\"standard\", 'eil76.tsp')\n",
        "ic.print_info()\n",
        "ic.plot_data()"
      ]
    },
    {
      "cell_type": "code",
      "execution_count": null,
      "metadata": {
        "colab": {
          "base_uri": "https://localhost:8080/",
          "height": 751
        },
        "id": "GRKbkZlgdN_9",
        "outputId": "2a2f9237-a29a-404f-9f17-e5bc713a099c"
      },
      "outputs": [],
      "source": [
        "ic = TSP_Instance_Creator(\"standard\", 'ch130.tsp')\n",
        "ic.print_info()\n",
        "ic.plot_data()"
      ]
    },
    {
      "cell_type": "code",
      "execution_count": null,
      "metadata": {
        "colab": {
          "base_uri": "https://localhost:8080/",
          "height": 751
        },
        "id": "L3xCO46-dNzG",
        "outputId": "738e6930-db72-4450-c8f1-ff51dd393861"
      },
      "outputs": [],
      "source": [
        "ic = TSP_Instance_Creator(\"standard\", 'd198.tsp')\n",
        "ic.print_info()\n",
        "ic.plot_data()"
      ]
    },
    {
      "cell_type": "code",
      "execution_count": null,
      "metadata": {
        "colab": {
          "base_uri": "https://localhost:8080/",
          "height": 751
        },
        "id": "4LYHiaRzmwH1",
        "outputId": "5634f17c-4b17-4755-ddd9-3e9b49fd9de3"
      },
      "outputs": [],
      "source": [
        "ic = TSP_Instance_Creator(\"standard\", 'myTSP_dim10.tsp')\n",
        "ic.print_info()\n",
        "ic.plot_data()"
      ]
    },
    {
      "cell_type": "code",
      "execution_count": null,
      "metadata": {
        "id": "IEpkn0lSX8Li"
      },
      "outputs": [],
      "source": [
        "import numpy as np\n",
        "from AI_USI_MA.solvers.local_search import twoOpt\n",
        "from AI_USI_MA.solvers.constructive_algorithms import nn\n",
        "\n",
        "# nn takes as input the distance matrix and returns\n",
        "# the tour and the length constructed with nearest neighbor, i.e.   tour, len_t = nn(dist_mat)\n",
        "\n",
        "# twoOpt takes as input the solution, the actual_len and the distance matrix\n",
        "# and returns the tour and the length created with 2-opt, i.e.     tour, lent_t = twoOpt(solution, actual_len, dist_mat)\n",
        "\n",
        "class ACS:\n",
        "  m = 10\n",
        "  beta = 2\n",
        "  alpha = rho = 0.1\n",
        "  cl = 20 # or 15\n",
        "\n",
        "  @staticmethod\n",
        "  def take_candidates(j, dist_mat):\n",
        "    return list(np.argsort(dist_mat[j])[1:ACS.cl+1])\n",
        "\n",
        "  def __init__(self, instance):\n",
        "    self.n = instance.nPoints\n",
        "    self.dist_mat = instance.dist_matrix\n",
        "    _, self.L_nn = nn(instance.dist_matrix, starting_node=np.random.choice(self.n))\n",
        "    self.tau0 = 1./(float(self.n) * self.L_nn)\n",
        "    self.position = {i: None for i in range(ACS.m)}  # position collector for the Ants, TO BE UPDATED during the steps\n",
        "    self.tour = {i: [] for i in range(ACS.m)}  # tour collector for the Ants\n",
        "    self.pheromone = {r: [self.tau0]*ACS.cl for r in range(self.n)}\n",
        "    self.candidate_list = {r: ACS.take_candidates(r, instance.dist_matrix) for r in range(self.n)}\n",
        "    self.eta = {r: [1/self.dist_mat[r, s] for s in ACS.take_candidates(r, instance.dist_matrix)] for r in range(self.n)}\n",
        "\n"
      ]
    },
    {
      "cell_type": "code",
      "execution_count": null,
      "metadata": {
        "colab": {
          "base_uri": "https://localhost:8080/"
        },
        "id": "GvBQ8MDWhg1G",
        "outputId": "17749754-e754-43fd-d50f-6ffaf5a10b58"
      },
      "outputs": [],
      "source": [
        "acs = ACS(ic)\n",
        "\n",
        "print('tau0 =', acs.tau0)\n",
        "for j in acs.candidate_list.keys():\n",
        "  print()\n",
        "  print(\"node          :\", j)\n",
        "  print(\"candidate list:\", acs.candidate_list[j][:3])\n",
        "  print(\"eta values    :\", acs.eta[j][:3])\n",
        "  print(\"pheromone     :\", acs.pheromone[j][:3])\n",
        "  if j>2:\n",
        "    break\n"
      ]
    },
    {
      "cell_type": "markdown",
      "metadata": {
        "id": "rss1e90H6yQY"
      },
      "source": [
        "# test twoOpt_with_cl\n",
        "\n",
        "the implementation of 2opt with the candidate list has worst performances in term of quality but achieves improvements using fewer computation"
      ]
    },
    {
      "cell_type": "code",
      "execution_count": null,
      "metadata": {
        "id": "IIe5f7kPuGAz"
      },
      "outputs": [],
      "source": [
        "from time import time\n",
        "from AI_USI_MA.solvers.two_opt_with_candidate import twoOpt_with_cl\n",
        "\n",
        "ic = TSP_Instance_Creator(\"standard\", 'fl1577.tsp')\n",
        "\n",
        "initial_sol, initial_len = nn(ic.dist_matrix, starting_node=np.random.choice(ic.nPoints))\n",
        "acs = ACS(ic)"
      ]
    },
    {
      "cell_type": "code",
      "execution_count": null,
      "metadata": {
        "colab": {
          "base_uri": "https://localhost:8080/"
        },
        "id": "gz-IporRBwB8",
        "outputId": "18332b99-4624-4f27-f5f9-ab561132b179"
      },
      "outputs": [],
      "source": [
        "start = time()\n",
        "tour, len_new = twoOpt_with_cl(initial_sol, initial_len, ic.dist_matrix, acs.candidate_list)\n",
        "print(f' 2opt with candidate: initial len {initial_len}, final len {len_new} \\n execution time: {time() - start}')\n",
        "\n",
        "start = time()\n",
        "tour, len_new = twoOpt(initial_sol, initial_len, ic.dist_matrix)\n",
        "print(f' 2opt: initial len {initial_len}, final len {len_new} \\n execution time: {time() - start}')"
      ]
    },
    {
      "cell_type": "code",
      "execution_count": null,
      "metadata": {
        "colab": {
          "base_uri": "https://localhost:8080/"
        },
        "id": "jfUyNjrf9ojg",
        "outputId": "687e3753-d630-4fd3-a15c-87074c3eb16b"
      },
      "outputs": [],
      "source": [
        "list_time = []\n",
        "for _ in range(5):\n",
        "  initial_sol, initial_len = nn(ic.dist_matrix, starting_node=np.random.choice(ic.nPoints))\n",
        "  start = time()\n",
        "  _ = twoOpt_with_cl(initial_sol, initial_len, ic.dist_matrix, acs.candidate_list)\n",
        "  list_time.append(time()- start)\n",
        "\n",
        "print(f\"mean {np.mean(list_time)},  std {np.std(list_time)}\" )"
      ]
    },
    {
      "cell_type": "code",
      "execution_count": null,
      "metadata": {
        "colab": {
          "base_uri": "https://localhost:8080/"
        },
        "id": "Xvn0qrUHAYQR",
        "outputId": "21d3ccd3-29fc-48b7-e3c0-3716808735e5"
      },
      "outputs": [],
      "source": [
        "\n",
        "list_time = []\n",
        "for _ in range(5):\n",
        "  initial_sol, initial_len = nn(ic.dist_matrix, starting_node=np.random.choice(ic.nPoints))\n",
        "  start = time()\n",
        "  _ = twoOpt(initial_sol, initial_len, ic.dist_matrix)\n",
        "  list_time.append(time() - start)\n",
        "\n",
        "print(f\"mean {np.mean(list_time)},  std {np.std(list_time)}\" )"
      ]
    }
  ],
  "metadata": {
    "colab": {
      "provenance": []
    },
    "kernelspec": {
      "display_name": "Python 3",
      "name": "python3"
    },
    "language_info": {
      "codemirror_mode": {
        "name": "ipython",
        "version": 3
      },
      "file_extension": ".py",
      "mimetype": "text/x-python",
      "name": "python",
      "nbconvert_exporter": "python",
      "pygments_lexer": "ipython3",
      "version": "3.10.12"
    }
  },
  "nbformat": 4,
  "nbformat_minor": 0
}
